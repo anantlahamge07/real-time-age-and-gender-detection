{
 "cells": [
  {
   "cell_type": "code",
   "execution_count": 1,
   "id": "367cc07b-0848-4412-80dd-2fefdf579e0c",
   "metadata": {},
   "outputs": [
    {
     "name": "stdout",
     "output_type": "stream",
     "text": [
      "GPU memory limit set\n"
     ]
    }
   ],
   "source": [
    "import tensorflow as tf\n",
    "\n",
    "gpus = tf.config.experimental.list_physical_devices('GPU')\n",
    "if gpus:\n",
    "    try:\n",
    "        for gpu in gpus:\n",
    "            tf.config.experimental.set_virtual_device_configuration(\n",
    "                gpu,\n",
    "                [tf.config.experimental.VirtualDeviceConfiguration(memory_limit=4096)]  # Limit to 4GB\n",
    "            )\n",
    "        print(\"GPU memory limit set\")\n",
    "    except RuntimeError as e:\n",
    "        print(e)\n"
   ]
  },
  {
   "cell_type": "code",
   "execution_count": 2,
   "id": "09546e4f-5542-4c6b-9012-7155598d70be",
   "metadata": {},
   "outputs": [
    {
     "name": "stdout",
     "output_type": "stream",
     "text": [
      "INFO:tensorflow:Mixed precision compatibility check (mixed_float16): OK\n",
      "Your GPU will likely run quickly with dtype policy mixed_float16 as it has compute capability of at least 7.0. Your GPU: NVIDIA GeForce GTX 1650 Ti, compute capability 7.5\n"
     ]
    }
   ],
   "source": [
    "from tensorflow.keras import mixed_precision\n",
    "\n",
    "mixed_precision.set_global_policy('mixed_float16')\n"
   ]
  },
  {
   "cell_type": "code",
   "execution_count": 3,
   "id": "1df29eac-7810-4d8a-95a3-4998367a5e2c",
   "metadata": {},
   "outputs": [],
   "source": [
    "import os\n",
    "import cv2\n",
    "import numpy as np\n",
    "import pandas as pd\n",
    "import tensorflow as tf\n",
    "from tensorflow.keras.preprocessing.image import img_to_array\n",
    "from tensorflow.keras.models import Sequential\n",
    "from tensorflow.keras import layers, models\n",
    "from tensorflow.keras.layers import Conv2D, MaxPooling2D, Dropout, Dense, Flatten \n",
    "import matplotlib.pyplot as plt\n",
    "from PIL import Image\n",
    "from tensorflow.keras.applications import MobileNetV2\n",
    "from tensorflow.keras.layers import Input\n",
    "\n",
    "import zipfile"
   ]
  },
  {
   "cell_type": "code",
   "execution_count": 4,
   "id": "c5a16262-4065-4819-ab33-82455dd4104a",
   "metadata": {},
   "outputs": [],
   "source": [
    "path = r'D:\\ML projects\\gender_age_emotion_dataset\\utkface_aligned_cropped\\UTKFace'\n",
    "\n",
    "images = []\n",
    "age = []\n",
    "gender = []\n",
    "\n",
    "\n",
    "for image in  os.listdir(path):\n",
    "    ages = image.split('_')[0]\n",
    "    genders = image.split('_')[1] \n",
    "    image = cv2.imread(str(path) + '/' + str(image))\n",
    "    image = cv2.cvtColor(image, cv2.COLOR_BGR2RGB)\n",
    "    age.append(np.array(ages))\n",
    "    gender.append(np.array(genders))\n",
    "    images.append(np.array(image))\n",
    "    \n",
    "\n",
    "\n"
   ]
  },
  {
   "cell_type": "code",
   "execution_count": 5,
   "id": "caf2e0a6-f285-4736-a204-d7f8b1d0fd95",
   "metadata": {},
   "outputs": [],
   "source": [
    "age = np.array(age, dtype = np.int64)\n",
    "gender = np.array(gender, dtype = np.uint64)\n",
    "images = np.array(images)"
   ]
  },
  {
   "cell_type": "code",
   "execution_count": 6,
   "id": "ab368ca0-2f8c-4d1f-9b7f-dbee185ff999",
   "metadata": {},
   "outputs": [
    {
     "data": {
      "text/plain": [
       "(23708, 23708, 23708)"
      ]
     },
     "execution_count": 6,
     "metadata": {},
     "output_type": "execute_result"
    }
   ],
   "source": [
    "len(age), len(gender), len(images)"
   ]
  },
  {
   "cell_type": "code",
   "execution_count": 7,
   "id": "2149141c-a601-4d25-b8d3-d34b075a6a1e",
   "metadata": {},
   "outputs": [],
   "source": [
    "from sklearn.model_selection import train_test_split\n",
    "X_train_age, X_test_age, y_train_age, y_test_age = train_test_split(images, age, test_size = 0.2, random_state = 42)\n",
    "X_train_gender, X_test_gender, y_train_gender, y_test_gender = train_test_split(images, gender, test_size = 0.2, random_state = 42)"
   ]
  },
  {
   "cell_type": "code",
   "execution_count": 8,
   "id": "c1190407-f2cb-4b3d-a25a-0925c3442eb2",
   "metadata": {},
   "outputs": [],
   "source": [
    "from tensorflow.keras.applications import ResNet50\n",
    "\n",
    "pre_trained_model = ResNet50(weights = 'imagenet',include_top = False )\n",
    "\n",
    "\n",
    "for layer in pre_trained_model.layers:\n",
    "    layer.trainable = False"
   ]
  },
  {
   "cell_type": "code",
   "execution_count": 9,
   "id": "32be5fe2-7174-49bc-ac3b-a5fa4b747746",
   "metadata": {},
   "outputs": [],
   "source": [
    "age_model = Sequential()\n",
    "\n",
    "age_model.add(Input(shape = (200, 200, 3)))\n",
    "age_model.add(pre_trained_model)\n",
    "\n",
    "\n",
    "\n",
    "\n",
    "age_model.add(Conv2D(32,(3,3), activation = 'relu', padding = 'same' ))\n",
    "age_model.add(MaxPooling2D(2,2))\n",
    "\n",
    "age_model.add(Conv2D(64,(3,3), activation = 'relu' , padding = 'same'))\n",
    "age_model.add(MaxPooling2D(2,2))\n",
    "\n",
    "age_model.add(Flatten())\n",
    "\n",
    "age_model.add(Dense(64, activation = 'relu'))\n",
    "age_model.add(Dropout(0.2))\n",
    "\n",
    "\n",
    "\n",
    "age_model.add(Dense(1, activation = 'linear'))\n"
   ]
  },
  {
   "cell_type": "code",
   "execution_count": 10,
   "id": "5c6ed430-3b22-44f7-b885-9da36baff645",
   "metadata": {},
   "outputs": [],
   "source": [
    "gender_model = Sequential()\n",
    "\n",
    "gender_model.add(Input(shape = (200, 200, 3)))\n",
    "gender_model.add(pre_trained_model)\n",
    "\n",
    "\n",
    "\n",
    "gender_model.add(Conv2D(32,(3,3), activation = 'relu', padding = 'same' ))\n",
    "gender_model.add(MaxPooling2D(2,2))\n",
    "\n",
    "gender_model.add(Conv2D(64,(3,3), activation = 'relu' , padding = 'same'))\n",
    "gender_model.add(MaxPooling2D(2,2))\n",
    "\n",
    "gender_model.add(Flatten())\n",
    "\n",
    "\n",
    "gender_model.add(Dense(32, activation = 'relu'))\n",
    "gender_model.add(Dropout(0.2))\n",
    "\n",
    "\n",
    "\n",
    "\n",
    "gender_model.add(Dense(1, activation = 'sigmoid'))"
   ]
  },
  {
   "cell_type": "code",
   "execution_count": 11,
   "id": "ef9a1292-f14c-4dcb-aeab-6221fda431a4",
   "metadata": {},
   "outputs": [],
   "source": [
    "age_model.compile(optimizer = 'adam', loss = 'mse', metrics = ['mae'])"
   ]
  },
  {
   "cell_type": "code",
   "execution_count": 14,
   "id": "1e4fa7d5-6f4e-4fd0-8ac9-076893ef3984",
   "metadata": {},
   "outputs": [
    {
     "ename": "InternalError",
     "evalue": "Failed copying input tensor from /job:localhost/replica:0/task:0/device:CPU:0 to /job:localhost/replica:0/task:0/device:GPU:0 in order to run _EagerConst: Dst tensor is not initialized.",
     "output_type": "error",
     "traceback": [
      "\u001b[1;31m---------------------------------------------------------------------------\u001b[0m",
      "\u001b[1;31mInternalError\u001b[0m                             Traceback (most recent call last)",
      "Cell \u001b[1;32mIn[14], line 1\u001b[0m\n\u001b[1;32m----> 1\u001b[0m history_age \u001b[38;5;241m=\u001b[39m \u001b[43mage_model\u001b[49m\u001b[38;5;241;43m.\u001b[39;49m\u001b[43mfit\u001b[49m\u001b[43m(\u001b[49m\u001b[43mX_train_age\u001b[49m\u001b[43m,\u001b[49m\u001b[43m \u001b[49m\u001b[43my_train_age\u001b[49m\u001b[43m,\u001b[49m\u001b[43m \u001b[49m\u001b[43mvalidation_data\u001b[49m\u001b[43m \u001b[49m\u001b[38;5;241;43m=\u001b[39;49m\u001b[43m \u001b[49m\u001b[43m(\u001b[49m\u001b[43mX_test_age\u001b[49m\u001b[43m,\u001b[49m\u001b[43m \u001b[49m\u001b[43my_test_age\u001b[49m\u001b[43m)\u001b[49m\u001b[43m,\u001b[49m\u001b[43m  \u001b[49m\u001b[43mepochs\u001b[49m\u001b[43m \u001b[49m\u001b[38;5;241;43m=\u001b[39;49m\u001b[43m \u001b[49m\u001b[38;5;241;43m10\u001b[39;49m\u001b[43m)\u001b[49m\n",
      "File \u001b[1;32mD:\\anaconda\\envs\\tf2.8\\lib\\site-packages\\keras\\utils\\traceback_utils.py:67\u001b[0m, in \u001b[0;36mfilter_traceback.<locals>.error_handler\u001b[1;34m(*args, **kwargs)\u001b[0m\n\u001b[0;32m     65\u001b[0m \u001b[38;5;28;01mexcept\u001b[39;00m \u001b[38;5;167;01mException\u001b[39;00m \u001b[38;5;28;01mas\u001b[39;00m e:  \u001b[38;5;66;03m# pylint: disable=broad-except\u001b[39;00m\n\u001b[0;32m     66\u001b[0m   filtered_tb \u001b[38;5;241m=\u001b[39m _process_traceback_frames(e\u001b[38;5;241m.\u001b[39m__traceback__)\n\u001b[1;32m---> 67\u001b[0m   \u001b[38;5;28;01mraise\u001b[39;00m e\u001b[38;5;241m.\u001b[39mwith_traceback(filtered_tb) \u001b[38;5;28;01mfrom\u001b[39;00m \u001b[38;5;28;01mNone\u001b[39;00m\n\u001b[0;32m     68\u001b[0m \u001b[38;5;28;01mfinally\u001b[39;00m:\n\u001b[0;32m     69\u001b[0m   \u001b[38;5;28;01mdel\u001b[39;00m filtered_tb\n",
      "File \u001b[1;32mD:\\anaconda\\envs\\tf2.8\\lib\\site-packages\\tensorflow\\python\\framework\\constant_op.py:102\u001b[0m, in \u001b[0;36mconvert_to_eager_tensor\u001b[1;34m(value, ctx, dtype)\u001b[0m\n\u001b[0;32m    100\u001b[0m     dtype \u001b[38;5;241m=\u001b[39m dtypes\u001b[38;5;241m.\u001b[39mas_dtype(dtype)\u001b[38;5;241m.\u001b[39mas_datatype_enum\n\u001b[0;32m    101\u001b[0m ctx\u001b[38;5;241m.\u001b[39mensure_initialized()\n\u001b[1;32m--> 102\u001b[0m \u001b[38;5;28;01mreturn\u001b[39;00m \u001b[43mops\u001b[49m\u001b[38;5;241;43m.\u001b[39;49m\u001b[43mEagerTensor\u001b[49m\u001b[43m(\u001b[49m\u001b[43mvalue\u001b[49m\u001b[43m,\u001b[49m\u001b[43m \u001b[49m\u001b[43mctx\u001b[49m\u001b[38;5;241;43m.\u001b[39;49m\u001b[43mdevice_name\u001b[49m\u001b[43m,\u001b[49m\u001b[43m \u001b[49m\u001b[43mdtype\u001b[49m\u001b[43m)\u001b[49m\n",
      "\u001b[1;31mInternalError\u001b[0m: Failed copying input tensor from /job:localhost/replica:0/task:0/device:CPU:0 to /job:localhost/replica:0/task:0/device:GPU:0 in order to run _EagerConst: Dst tensor is not initialized."
     ]
    }
   ],
   "source": [
    "history_age = age_model.fit(X_train_age, y_train_age, validation_data = (X_test_age, y_test_age),  epochs = 10)"
   ]
  },
  {
   "cell_type": "code",
   "execution_count": null,
   "id": "3c47299f-d8fa-4f89-acd2-1e2fdb5c723b",
   "metadata": {},
   "outputs": [],
   "source": [
    "age_model.save('age_model.h5')"
   ]
  },
  {
   "cell_type": "code",
   "execution_count": null,
   "id": "ab20cad5-617d-4cab-a854-60b34467dd0c",
   "metadata": {},
   "outputs": [],
   "source": [
    "from tensorflow.keras.models import load_model \n",
    "age_model = load_model('age_model.h5')"
   ]
  },
  {
   "cell_type": "code",
   "execution_count": null,
   "id": "bb4bf28a-ef55-408d-8ee7-4d5264ee25f0",
   "metadata": {},
   "outputs": [],
   "source": [
    "gender_model.compile(optimizer = 'adam', loss = 'binary_crossentropy', metrics = ['accuracy'])"
   ]
  },
  {
   "cell_type": "code",
   "execution_count": null,
   "id": "e5562083-cb3c-4c65-a228-050ab7fbadb0",
   "metadata": {},
   "outputs": [],
   "source": [
    "history_gender = gender_model.fit(X_train_gender, y_train_gender, validation_data = (X_test_gender, y_test_gender),  epochs = 10)"
   ]
  },
  {
   "cell_type": "code",
   "execution_count": null,
   "id": "8c6ba7af-bcbd-4501-b514-ba604b4bd984",
   "metadata": {},
   "outputs": [],
   "source": [
    "with tf.device('/CPU:0'):\n",
    "    history_gender = gender_model.fit(X_train_gender, y_train_gender, validation_data=(X_test_gender, y_test_gender), epochs=10)\n"
   ]
  },
  {
   "cell_type": "code",
   "execution_count": null,
   "id": "ac837f1a-fd53-41c5-9ddc-81d313f9b127",
   "metadata": {},
   "outputs": [],
   "source": [
    "gender_model.save('gender_model.h5')"
   ]
  },
  {
   "cell_type": "code",
   "execution_count": null,
   "id": "ffca4481-eedb-421c-8bc1-13ac18f389a0",
   "metadata": {},
   "outputs": [],
   "source": [
    "import h5py\n",
    "\n",
    "try:\n",
    "    with h5py.File(\"age_model.h5\", \"r\") as f:\n",
    "        print(\"File is readable!\")\n",
    "except OSError:\n",
    "    print(\"The file is corrupted.\")\n"
   ]
  },
  {
   "cell_type": "code",
   "execution_count": null,
   "id": "9b1e0433-0cd0-4789-a475-a461aeb838f1",
   "metadata": {},
   "outputs": [],
   "source": []
  }
 ],
 "metadata": {
  "kernelspec": {
   "display_name": "Python 3 (ipykernel)",
   "language": "python",
   "name": "python3"
  },
  "language_info": {
   "codemirror_mode": {
    "name": "ipython",
    "version": 3
   },
   "file_extension": ".py",
   "mimetype": "text/x-python",
   "name": "python",
   "nbconvert_exporter": "python",
   "pygments_lexer": "ipython3",
   "version": "3.8.20"
  }
 },
 "nbformat": 4,
 "nbformat_minor": 5
}
